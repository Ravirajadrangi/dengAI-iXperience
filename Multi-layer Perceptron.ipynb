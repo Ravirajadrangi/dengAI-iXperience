{
 "cells": [
  {
   "cell_type": "code",
   "execution_count": 1,
   "metadata": {
    "collapsed": true
   },
   "outputs": [],
   "source": [
    "# Implementation of a simple MLP network with one hidden layer. Tested on the iris data set.\n",
    "# Requires: numpy, sklearn>=0.18.1, tensorflow>=1.0\n",
    "\n",
    "# NOTE: In order to make the code simple, we rewrite x * W_1 + b_1 = x' * W_1'\n",
    "# where x' = [x | 1] and W_1' is the matrix W_1 appended with a new row with elements b_1's.\n",
    "# Similarly, for h * W_2 + b_2"
   ]
  },
  {
   "cell_type": "code",
   "execution_count": 57,
   "metadata": {
    "collapsed": true
   },
   "outputs": [],
   "source": [
    "import tensorflow as tf\n",
    "import numpy as np\n",
    "import pandas as pd\n",
    "import time\n",
    "import datetime\n",
    "import math\n",
    "from sklearn import datasets\n",
    "from sklearn import metrics\n",
    "from sklearn.model_selection import train_test_split"
   ]
  },
  {
   "cell_type": "code",
   "execution_count": 6,
   "metadata": {},
   "outputs": [
    {
     "name": "stderr",
     "output_type": "stream",
     "text": [
      "C:\\Users\\8050116\\AppData\\Local\\conda\\conda\\envs\\iX2017\\lib\\site-packages\\ipykernel_launcher.py:31: SettingWithCopyWarning: \n",
      "A value is trying to be set on a copy of a slice from a DataFrame.\n",
      "Try using .loc[row_indexer,col_indexer] = value instead\n",
      "\n",
      "See the caveats in the documentation: http://pandas.pydata.org/pandas-docs/stable/indexing.html#indexing-view-versus-copy\n",
      "C:\\Users\\8050116\\AppData\\Local\\conda\\conda\\envs\\iX2017\\lib\\site-packages\\ipykernel_launcher.py:32: SettingWithCopyWarning: \n",
      "A value is trying to be set on a copy of a slice from a DataFrame.\n",
      "Try using .loc[row_indexer,col_indexer] = value instead\n",
      "\n",
      "See the caveats in the documentation: http://pandas.pydata.org/pandas-docs/stable/indexing.html#indexing-view-versus-copy\n",
      "C:\\Users\\8050116\\AppData\\Local\\conda\\conda\\envs\\iX2017\\lib\\site-packages\\ipykernel_launcher.py:33: SettingWithCopyWarning: \n",
      "A value is trying to be set on a copy of a slice from a DataFrame.\n",
      "Try using .loc[row_indexer,col_indexer] = value instead\n",
      "\n",
      "See the caveats in the documentation: http://pandas.pydata.org/pandas-docs/stable/indexing.html#indexing-view-versus-copy\n",
      "C:\\Users\\8050116\\AppData\\Local\\conda\\conda\\envs\\iX2017\\lib\\site-packages\\ipykernel_launcher.py:34: SettingWithCopyWarning: \n",
      "A value is trying to be set on a copy of a slice from a DataFrame.\n",
      "Try using .loc[row_indexer,col_indexer] = value instead\n",
      "\n",
      "See the caveats in the documentation: http://pandas.pydata.org/pandas-docs/stable/indexing.html#indexing-view-versus-copy\n"
     ]
    }
   ],
   "source": [
    "# loading in the data\n",
    "\n",
    "train_features = pd.read_csv('dengue_features_train.csv')\n",
    "train_labels = pd.read_csv('dengue_labels_train.csv')\n",
    "test_features = pd.read_csv('dengue_features_test.csv')\n",
    "\n",
    "# splitting by city\n",
    "\n",
    "train_features_sj = train_features[:936]\n",
    "train_features_iq = train_features[936:]\n",
    "\n",
    "train_labels_sj = train_labels[:936]\n",
    "train_labels_iq = train_labels[936:]\n",
    "\n",
    "test_features_sj = test_features[:260]\n",
    "test_features_iq = test_features[260:]\n",
    "\n",
    "# introducing a datetime feature that contains the unix timestamp\n",
    "\n",
    "def get_timestamp(features):\n",
    "    dt = []\n",
    "    for date in features['week_start_date']:\n",
    "        dt.append(time.mktime(datetime.datetime.strptime(date, '%Y-%m-%d').timetuple()) / 1000)\n",
    "    return dt\n",
    "\n",
    "sj_times = get_timestamp(train_features_sj)\n",
    "iq_times = get_timestamp(train_features_iq)\n",
    "sj_times_test = get_timestamp(test_features_sj)\n",
    "iq_times_test = get_timestamp(test_features_iq)\n",
    "\n",
    "train_features_sj['datetime'] = sj_times\n",
    "train_features_iq['datetime'] = iq_times\n",
    "test_features_sj['datetime'] = sj_times_test\n",
    "test_features_iq['datetime'] = iq_times_test\n",
    "\n",
    "# dropping the city feature and the other features previously used to describe time, now that I have a timestamp\n",
    "\n",
    "train_features_sj = train_features_sj.drop(train_features_sj.columns[[0,1,2,3]], axis=1)\n",
    "train_features_iq = train_features_iq.drop(train_features_iq.columns[[0,1,2,3]], axis=1)\n",
    "\n",
    "test_features_sj = test_features_sj.drop(test_features_sj.columns[[0,1,2,3]], axis=1)\n",
    "test_features_iq = test_features_iq.drop(test_features_iq.columns[[0,1,2,3]], axis=1)\n",
    "\n",
    "# filling in missing data\n",
    "\n",
    "train_features_sj.fillna(method='bfill', inplace=True)\n",
    "train_features_iq.fillna(method='bfill', inplace=True)\n",
    "\n",
    "test_features_sj.fillna(method='bfill', inplace=True)\n",
    "test_features_iq.fillna(method='bfill', inplace=True)\n",
    "\n",
    "train_labels_sj = train_labels_sj.total_cases\n",
    "train_labels_iq = train_labels_iq.total_cases"
   ]
  },
  {
   "cell_type": "code",
   "execution_count": 77,
   "metadata": {},
   "outputs": [],
   "source": [
    "# selecting a subset of the features\n",
    "X_sj = train_features_sj[['precipitation_amt_mm', 'reanalysis_air_temp_k', 'reanalysis_avg_temp_k', \n",
    "                          'reanalysis_dew_point_temp_k', 'reanalysis_max_air_temp_k', 'reanalysis_min_air_temp_k', \n",
    "                          'reanalysis_precip_amt_kg_per_m2', 'reanalysis_relative_humidity_percent', \n",
    "                          'reanalysis_sat_precip_amt_mm', 'reanalysis_specific_humidity_g_per_kg', \n",
    "                          'reanalysis_tdtr_k', 'station_precip_mm', 'datetime']]\n",
    "y_sj = train_labels_sj\n",
    "X_iq = train_features_iq[['precipitation_amt_mm', 'reanalysis_air_temp_k', 'reanalysis_avg_temp_k', \n",
    "                          'reanalysis_dew_point_temp_k', 'reanalysis_max_air_temp_k', 'reanalysis_min_air_temp_k', \n",
    "                          'reanalysis_precip_amt_kg_per_m2', 'reanalysis_relative_humidity_percent', \n",
    "                          'reanalysis_sat_precip_amt_mm', 'reanalysis_specific_humidity_g_per_kg', \n",
    "                          'reanalysis_tdtr_k', 'station_precip_mm', 'datetime']]\n",
    "y_iq = train_labels_iq\n",
    "\n",
    "# test X values\n",
    "X_sj_test = test_features_sj[['precipitation_amt_mm', 'reanalysis_air_temp_k', 'reanalysis_avg_temp_k', \n",
    "                              'reanalysis_dew_point_temp_k', 'reanalysis_max_air_temp_k', 'reanalysis_min_air_temp_k', \n",
    "                              'reanalysis_precip_amt_kg_per_m2', 'reanalysis_relative_humidity_percent', \n",
    "                              'reanalysis_sat_precip_amt_mm', 'reanalysis_specific_humidity_g_per_kg', \n",
    "                              'reanalysis_tdtr_k', 'station_precip_mm', 'datetime']]\n",
    "\n",
    "X_iq_test = test_features_iq[['precipitation_amt_mm', 'reanalysis_air_temp_k', 'reanalysis_avg_temp_k', \n",
    "                              'reanalysis_dew_point_temp_k', 'reanalysis_max_air_temp_k', 'reanalysis_min_air_temp_k', \n",
    "                              'reanalysis_precip_amt_kg_per_m2', 'reanalysis_relative_humidity_percent', \n",
    "                              'reanalysis_sat_precip_amt_mm', 'reanalysis_specific_humidity_g_per_kg', \n",
    "                              'reanalysis_tdtr_k', 'station_precip_mm', 'datetime']]"
   ]
  },
  {
   "cell_type": "code",
   "execution_count": 78,
   "metadata": {},
   "outputs": [],
   "source": [
    "# new feature, 0 if cold (<300 Kelvin), 1 if warm\n",
    "\n",
    "def is_warm(features):\n",
    "    warm = []\n",
    "    for observation in features['reanalysis_avg_temp_k']:\n",
    "        if observation < 300:\n",
    "            warm.append(0)\n",
    "        else:\n",
    "            warm.append(1)\n",
    "    return warm\n",
    "\n",
    "warmth_sj = is_warm(X_sj)\n",
    "warmth_iq = is_warm(X_iq)\n",
    "warmth_sj_test = is_warm(X_sj_test)\n",
    "warmth_iq_test = is_warm(X_iq_test)\n",
    "\n",
    "X_sj.warmth = warmth_sj\n",
    "X_iq.warmth = warmth_iq\n",
    "X_sj_test.warmth = warmth_sj_test\n",
    "X_iq_test.warmth = warmth_iq_test"
   ]
  },
  {
   "cell_type": "code",
   "execution_count": 79,
   "metadata": {},
   "outputs": [],
   "source": [
    "# splitting data into training set and validation set\n",
    "\n",
    "X_sj_train, X_sj_val, y_sj_train, y_sj_val = train_test_split(X_sj, y_sj, test_size=0.2, random_state=41)\n",
    "\n",
    "X_iq_train, X_iq_val, y_iq_train, y_iq_val = train_test_split(X_iq, y_iq, test_size=0.2, random_state=41)\n"
   ]
  },
  {
   "cell_type": "code",
   "execution_count": 80,
   "metadata": {
    "collapsed": true
   },
   "outputs": [],
   "source": [
    "RANDOM_SEED = 42\n",
    "tf.set_random_seed(RANDOM_SEED)"
   ]
  },
  {
   "cell_type": "code",
   "execution_count": 81,
   "metadata": {
    "collapsed": true
   },
   "outputs": [],
   "source": [
    "def init_weights(shape):\n",
    "    \"\"\" Weight initialization \"\"\"\n",
    "    weights = tf.random_normal(shape, stddev=0.1)\n",
    "    return tf.Variable(weights)"
   ]
  },
  {
   "cell_type": "code",
   "execution_count": 105,
   "metadata": {
    "collapsed": true
   },
   "outputs": [],
   "source": [
    "def forwardprop(X, w_1, w_2, w_3):\n",
    "    h = tf.nn.sigmoid(tf.matmul(X, w_1))  # The \\sigma function\n",
    "    h2 = tf.nn.sigmoid(tf.matmul(h, w_2))\n",
    "    yhat = tf.matmul(h, w_3)  # The \\varphi function\n",
    "    return yhat"
   ]
  },
  {
   "cell_type": "code",
   "execution_count": 83,
   "metadata": {
    "collapsed": true
   },
   "outputs": [],
   "source": [
    "# Layer's sizes\n",
    "x_size = X_sj_train.shape[1]   # Number of input nodes: 13 features\n",
    "h_size = 256                # Number of hidden nodes\n",
    "y_size = 1"
   ]
  },
  {
   "cell_type": "code",
   "execution_count": 84,
   "metadata": {
    "collapsed": true
   },
   "outputs": [],
   "source": [
    "# Symbols\n",
    "X = tf.placeholder(\"float\", shape=[None, x_size])\n",
    "y = tf.placeholder(\"float\", shape=[None, y_size])"
   ]
  },
  {
   "cell_type": "code",
   "execution_count": 106,
   "metadata": {
    "collapsed": true
   },
   "outputs": [],
   "source": [
    "# Weight initializations\n",
    "w_1 = init_weights((x_size, h_size))\n",
    "w_2 = init_weights((h_size, h_size))\n",
    "w_3 = init_weights((h_size, y_size))"
   ]
  },
  {
   "cell_type": "code",
   "execution_count": 107,
   "metadata": {
    "collapsed": true
   },
   "outputs": [],
   "source": [
    "# Forward propagation\n",
    "yhat    = forwardprop(X, w_1, w_2, w_3)\n",
    "predict = tf.to_int64(yhat)"
   ]
  },
  {
   "cell_type": "code",
   "execution_count": 108,
   "metadata": {},
   "outputs": [],
   "source": [
    "# Backward propagation\n",
    "cost    = tf.losses.mean_squared_error(labels=y, predictions=yhat)\n",
    "updates = tf.train.GradientDescentOptimizer(0.0000003).minimize(cost)"
   ]
  },
  {
   "cell_type": "code",
   "execution_count": 88,
   "metadata": {},
   "outputs": [],
   "source": [
    "# transposing the label vectors\n",
    "y_sj_train = y_sj_train.as_matrix()\n",
    "y_iq_train = y_iq_train.as_matrix()\n",
    "\n",
    "y_sj_train = y_sj_train[:, None]\n",
    "y_iq_train = y_iq_train[:, None]"
   ]
  },
  {
   "cell_type": "code",
   "execution_count": 89,
   "metadata": {},
   "outputs": [],
   "source": [
    "y_sj = y_sj.as_matrix()\n",
    "y_iq = y_iq.as_matrix()\n",
    "\n",
    "y_sj = y_sj[:, None]\n",
    "y_iq = y_iq[:, None]"
   ]
  },
  {
   "cell_type": "code",
   "execution_count": 109,
   "metadata": {},
   "outputs": [
    {
     "name": "stdout",
     "output_type": "stream",
     "text": [
      "Epoch = 1, train loss = 33.21, test loss = 28.28\n",
      "Epoch = 11, train loss = 25.60, test loss = 21.24\n",
      "Epoch = 21, train loss = 26.32, test loss = 22.59\n",
      "Epoch = 31, train loss = 27.40, test loss = 23.91\n",
      "Epoch = 41, train loss = 28.11, test loss = 24.78\n",
      "Epoch = 51, train loss = 28.50, test loss = 25.24\n",
      "Epoch = 61, train loss = 28.91, test loss = 25.72\n",
      "Epoch = 71, train loss = 28.91, test loss = 25.72\n",
      "Epoch = 81, train loss = 29.35, test loss = 26.22\n",
      "Epoch = 91, train loss = 29.35, test loss = 26.22\n",
      "Epoch = 100, train loss = 29.35, test loss = 26.22\n"
     ]
    }
   ],
   "source": [
    "sess = tf.Session()\n",
    "init = tf.global_variables_initializer()\n",
    "sess.run(init)\n",
    "epochs = 100\n",
    "for epoch in range(epochs):\n",
    "        # Train with each example\n",
    "        for i in range(len(X_sj_train)):\n",
    "            sess.run(updates, feed_dict={X: X_sj_train[i: i + 1], y: y_sj_train[i: i + 1]})\n",
    "\n",
    "        train_accuracy = metrics.mean_absolute_error(y_sj_train,\n",
    "                                                     sess.run(predict, feed_dict={X: X_sj_train}))\n",
    "        test_accuracy  = metrics.mean_absolute_error(y_sj_val,\n",
    "                                                     sess.run(predict, feed_dict={X: X_sj_val}))\n",
    "\n",
    "        if epoch % 10 == 0 or epoch == epochs-1:\n",
    "            print(\"Epoch = %d, train loss = %.2f, test loss = %.2f\"\n",
    "                  % (epoch + 1, train_accuracy, test_accuracy))"
   ]
  },
  {
   "cell_type": "code",
   "execution_count": 110,
   "metadata": {},
   "outputs": [
    {
     "name": "stdout",
     "output_type": "stream",
     "text": [
      "Epoch = 1, train loss = 7.33, test loss = 8.49\n",
      "Epoch = 11, train loss = 6.25, test loss = 7.41\n",
      "Epoch = 21, train loss = 5.82, test loss = 7.09\n",
      "Epoch = 31, train loss = 5.80, test loss = 7.05\n",
      "Epoch = 41, train loss = 5.80, test loss = 7.05\n",
      "Epoch = 51, train loss = 5.96, test loss = 7.12\n",
      "Epoch = 61, train loss = 5.96, test loss = 7.12\n",
      "Epoch = 71, train loss = 5.96, test loss = 7.12\n",
      "Epoch = 81, train loss = 5.96, test loss = 7.12\n",
      "Epoch = 91, train loss = 6.27, test loss = 7.30\n",
      "Epoch = 100, train loss = 6.27, test loss = 7.30\n"
     ]
    }
   ],
   "source": [
    "sess = tf.Session()\n",
    "init = tf.global_variables_initializer()\n",
    "sess.run(init)\n",
    "epochs = 100\n",
    "for epoch in range(epochs):\n",
    "        # Train with each example\n",
    "        for i in range(len(X_iq_train)):\n",
    "            sess.run(updates, feed_dict={X: X_iq_train[i: i + 1], y: y_iq_train[i: i + 1]})\n",
    "\n",
    "        train_accuracy = metrics.mean_absolute_error(y_iq_train,\n",
    "                                                     sess.run(predict, feed_dict={X: X_iq_train}))\n",
    "        test_accuracy  = metrics.mean_absolute_error(y_iq_val,\n",
    "                                                     sess.run(predict, feed_dict={X: X_iq_val}))\n",
    "        \n",
    "        if epoch % 10 == 0 or epoch == epochs-1:\n",
    "            print(\"Epoch = %d, train loss = %.2f, test loss = %.2f\"\n",
    "                  % (epoch + 1, train_accuracy, test_accuracy))"
   ]
  },
  {
   "cell_type": "markdown",
   "metadata": {
    "collapsed": true
   },
   "source": [
    "#### Retraining on all data for submission"
   ]
  },
  {
   "cell_type": "code",
   "execution_count": 111,
   "metadata": {},
   "outputs": [
    {
     "name": "stdout",
     "output_type": "stream",
     "text": [
      "Epoch = 1, train loss = 32.22\n",
      "Epoch = 11, train loss = 24.73\n",
      "Epoch = 21, train loss = 25.82\n",
      "Epoch = 31, train loss = 27.06\n",
      "Epoch = 41, train loss = 27.45\n",
      "Epoch = 51, train loss = 27.84\n",
      "Epoch = 61, train loss = 27.84\n",
      "Epoch = 71, train loss = 27.84\n",
      "Epoch = 81, train loss = 27.84\n",
      "Epoch = 91, train loss = 27.84\n",
      "Epoch = 100, train loss = 27.84\n"
     ]
    }
   ],
   "source": [
    "sess = tf.Session()\n",
    "init = tf.global_variables_initializer()\n",
    "sess.run(init)\n",
    "epochs = 100\n",
    "for epoch in range(epochs):\n",
    "        # Train with each example\n",
    "        for i in range(len(X_sj)):\n",
    "            sess.run(updates, feed_dict={X: X_sj[i: i + 1], y: y_sj[i: i + 1]})\n",
    "\n",
    "        train_accuracy = metrics.mean_absolute_error(y_sj,\n",
    "                                                     sess.run(predict, feed_dict={X: X_sj}))\n",
    "        \n",
    "        if epoch % 10 == 0 or epoch == epochs-1:\n",
    "            print(\"Epoch = %d, train loss = %.2f\"\n",
    "                  % (epoch + 1, train_accuracy))\n",
    "    \n",
    "final_predict_sj = sess.run(predict, feed_dict={X: X_sj_test})"
   ]
  },
  {
   "cell_type": "code",
   "execution_count": 112,
   "metadata": {},
   "outputs": [
    {
     "name": "stdout",
     "output_type": "stream",
     "text": [
      "Epoch = 1, train loss = 7.57\n",
      "Epoch = 11, train loss = 6.21\n",
      "Epoch = 21, train loss = 6.08\n",
      "Epoch = 31, train loss = 6.05\n",
      "Epoch = 41, train loss = 6.19\n",
      "Epoch = 51, train loss = 6.19\n",
      "Epoch = 61, train loss = 6.47\n",
      "Epoch = 71, train loss = 6.47\n",
      "Epoch = 81, train loss = 6.47\n",
      "Epoch = 91, train loss = 6.47\n",
      "Epoch = 100, train loss = 6.47\n"
     ]
    }
   ],
   "source": [
    "sess = tf.Session()\n",
    "init = tf.global_variables_initializer()\n",
    "sess.run(init)\n",
    "epochs = 100\n",
    "for epoch in range(epochs):\n",
    "        # Train with each example\n",
    "        for i in range(len(X_iq)):\n",
    "            sess.run(updates, feed_dict={X: X_iq[i: i + 1], y: y_iq[i: i + 1]})\n",
    "\n",
    "        train_accuracy = metrics.mean_absolute_error(y_iq,\n",
    "                                                     sess.run(predict, feed_dict={X: X_iq}))\n",
    "        \n",
    "        if epoch % 10 == 0 or epoch == epochs-1:\n",
    "            print(\"Epoch = %d, train loss = %.2f\"\n",
    "                  % (epoch + 1, train_accuracy))\n",
    "    \n",
    "final_predict_iq = sess.run(predict, feed_dict={X: X_iq_test})"
   ]
  },
  {
   "cell_type": "code",
   "execution_count": 115,
   "metadata": {},
   "outputs": [],
   "source": [
    "#Creating file with test cases to be tested\n",
    "submission = pd.read_csv(\"submission_format.csv\",\n",
    "                         index_col=[0, 1, 2])\n",
    "\n",
    "submission.total_cases = np.concatenate([final_predict_sj, final_predict_iq])\n",
    "submission.to_csv(\"submission_MLP.csv\")"
   ]
  },
  {
   "cell_type": "code",
   "execution_count": 116,
   "metadata": {
    "collapsed": true
   },
   "outputs": [],
   "source": [
    "sess.close()"
   ]
  }
 ],
 "metadata": {
  "kernelspec": {
   "display_name": "Python 3",
   "language": "python",
   "name": "python3"
  },
  "language_info": {
   "codemirror_mode": {
    "name": "ipython",
    "version": 3
   },
   "file_extension": ".py",
   "mimetype": "text/x-python",
   "name": "python",
   "nbconvert_exporter": "python",
   "pygments_lexer": "ipython3",
   "version": "3.6.1"
  }
 },
 "nbformat": 4,
 "nbformat_minor": 2
}
